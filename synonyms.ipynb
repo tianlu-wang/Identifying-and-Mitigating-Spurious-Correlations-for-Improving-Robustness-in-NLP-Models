{
 "cells": [
  {
   "cell_type": "code",
   "execution_count": 1,
   "id": "4309a590",
   "metadata": {},
   "outputs": [],
   "source": [
    "idx2word = {}\n",
    "word2idx = {}\n",
    "\n",
    "counter_fitting_embeddings_path = \"./TextFooler/counter-fitted-vectors.txt\"\n",
    "import numpy as np\n",
    "with open(counter_fitting_embeddings_path, 'r') as ifile:\n",
    "    for line in ifile:\n",
    "        word = line.split()[0]\n",
    "        if word not in idx2word:\n",
    "            idx2word[len(idx2word)] = word\n",
    "            word2idx[word] = len(idx2word) - 1\n",
    "\n",
    "sim_mat = np.load(\"./TextFooler/cos_sim_counter_fitting.npy\")"
   ]
  },
  {
   "cell_type": "code",
   "execution_count": 2,
   "id": "76911b34",
   "metadata": {},
   "outputs": [],
   "source": [
    "def pick_most_similar_words_batch(src_words, sim_mat, idx2word, ret_count=10, threshold=0.5):\n",
    "    \"\"\"\n",
    "    embeddings is a matrix with (d, vocab_size)\n",
    "    \"\"\"\n",
    "    sim_order = np.argsort(-sim_mat[src_words, :])[:, 1:1 + ret_count]\n",
    "    sim_words, sim_values = [], []\n",
    "    for idx, src_word in enumerate(src_words):\n",
    "        sim_value = sim_mat[src_word][sim_order[idx]]\n",
    "        mask = sim_value >= threshold\n",
    "        sim_word, sim_value = sim_order[idx][mask], sim_value[mask]\n",
    "        sim_word = [idx2word[id] for id in sim_word]\n",
    "        sim_words.append(sim_word)\n",
    "        sim_values.append(sim_value)\n",
    "    return sim_words, sim_values"
   ]
  },
  {
   "cell_type": "code",
   "execution_count": 3,
   "id": "b5552452",
   "metadata": {},
   "outputs": [
    {
     "name": "stdout",
     "output_type": "stream",
     "text": [
      "[['doggie', 'doggy', 'pooch', 'terrier', 'whelp', 'lapdog', 'pup', 'dog', 'stacy', 'mutt'], ['adorable', 'loveable', 'lovable', 'charmer', 'enchanting', 'charming', 'lovely', 'mignon', 'belle', 'purty'], ['grand', 'tremendous', 'awesome', 'phenomenal', 'terrific', 'prodigious', 'magnificent', 'wonderful', 'splendid', 'fantastic']]\n",
      "[array([0.90128887, 0.8989495 , 0.89742   , 0.87069964, 0.8594034 ,\n",
      "       0.85718507, 0.8538883 , 0.8285643 , 0.7583071 , 0.75660145],\n",
      "      dtype=float32), array([0.9829023 , 0.96915776, 0.9471864 , 0.9286271 , 0.9247839 ,\n",
      "       0.9163198 , 0.86131245, 0.815133  , 0.8021123 , 0.8012755 ],\n",
      "      dtype=float32), array([0.9482119 , 0.9002365 , 0.8918252 , 0.8912617 , 0.88956505,\n",
      "       0.87316996, 0.86524844, 0.85902417, 0.8551228 , 0.8487243 ],\n",
      "      dtype=float32)]\n"
     ]
    }
   ],
   "source": [
    "src_words = [word2idx[w] for w in ['puppy', 'cute', 'great']]\n",
    "sim_words, sim_values = pick_most_similar_words_batch(src_words, sim_mat, idx2word)\n",
    "print(sim_words)\n",
    "print(sim_values)"
   ]
  },
  {
   "cell_type": "code",
   "execution_count": 4,
   "id": "bb6b2f2a",
   "metadata": {},
   "outputs": [],
   "source": [
    "sst_words = ['succeeds', 'dreadful', 'remarkably', 'pointless', 'captures', 'slack', 'uneven', 'suffers', 'powerful', 'hollow', 'proves', 'quietly', 'touching', 'insulting', 'clumsy', 'smug', 'superficial', 'offensive', 'static', 'pale', 'depressed', 'portrait', 'misery', 'effectively', 'intelligent', 'foolish', 'transforms', 'loser', 'bleak', 'sweetly', 'clever', 'vivid', 'cruel', 'absorbing', 'refuses', 'gripping', 'convincing', 'deadly', 'stirring', 'commands', 'strongest', 'successfully', 'represents', 'triumph', 'creates', 'portrays', 'celebrates', 'bolt', 'respects', 'confident', 'tremendous', 'redundant', 'motionless', 'reveals', 'lifeless', 'recycled', 'liability', 'faithful', 'drown', 'combines', 'crude', 'scarcely', 'torture', 'considerable', 'hopeless', 'irrelevant', 'affecting', 'strains', 'repeated', 'slip', 'sensual', 'detached', 'vain', 'gently', 'exaggerated', 'honesty', 'clarity', 'epic', 'nausea', 'sly', 'disastrous', 'juvenile', 'monstrous', 'exploitation', 'masterpiece', 'flopped', 'amusing', 'builds', 'evolve', 'naive', 'propaganda', 'establishes', 'numb', 'assurance', 'reaches', 'kills', 'flatly', 'striking', 'tale', 'achievement', 'frantic', 'fiercely', 'emerges', 'longest', 'problematic', 'expressive', 'displays', 'jagged', 'playfully', 'sympathetic', 'realistic', 'sincerity', 'playful', 'racist', 'muted', 'banged', 'capable', 'padded', 'yields', 'awkwardly', 'wisdom', 'straining', 'profound', 'willingness', 'dies', 'magnetic', 'stretched', 'fluid', 'universal', 'glued', 'acid', 'portrayal', 'stylized', 'weary', 'error', 'denial', 'infectious', 'ineffective', 'weighs', 'dramatically', 'sharply', 'capturing', 'enduring', 'drain', 'touched', 'fallen', 'imitation', 'credible', 'thrill', 'fatal', 'reflective', 'pity', 'ensures', 'stalls', 'sensation', 'haunting', 'affection', 'destructive', 'vacant', 'translate', 'downward', 'feast', 'fused', 'jerking', 'vicious', 'daring', 'chuckle', 'unpredictable', 'drains', 'photographed', 'meditation', 'glossy', 'knockout', 'shorter', 'ordeal', 'spontaneous', 'riot', 'elephant', 'skill', 'penetrating', 'screams', 'satisfactory', 'niche', 'arbitrary', 'uneasy', 'humming', 'oblivious', 'flourish', 'stripped', 'profile', 'achieving', 'slick', 'borrowed', 'lifts', 'meaningful', 'prolonged', 'grenade', 'scoring', 'vital', 'stakes', 'brightly', 'dubious', 'bitten', 'graceful', 'thud', 'prejudice', 'elaborate', 'breathe', 'canvas', 'transformed', 'intensely', 'phenomenon', 'emptiness', 'wears', 'plateau', 'pollution', 'corpse', 'seal', 'explosive', 'attracting', 'rises', 'commanding', 'acute', 'spends', 'essentially', 'viewed', 'precise', 'offended', 'directorial', 'fierce', 'economical', 'compatible', 'reduces', 'abuse', 'adequately', 'beaches', 'backward', 'formed', 'historically', 'slapping', 'conviction', 'freedom', 'discarded', 'disgust', 'emerge', 'snaps', 'rejected', 'unmistakable', 'compassion', 'examines', 'startling', 'asleep', 'fascination', 'shaking', 'overview', 'arrogant', 'inactive', 'cerebral', 'whale', 'flashes', 'lavish', 'sitcom', 'tuned', 'courage', 'expresses', 'rooted', 'fires', 'fabricated', 'worm', 'loosely', 'deficit', 'approaches', 'honorable', 'conspicuous', 'utilizing', 'qualities', 'wins', 'embraced', 'counts', 'breakthrough', 'contributions', 'costly', 'heroic', 'impact', 'collectively', 'precisely', 'lowered', 'capture', 'enables', 'bravery', 'woven', 'wreckage', 'symbolic', 'eerie', 'hampered', 'effectiveness', 'emphasizes', 'casts', 'harmless', 'prominent']\n",
    "\n"
   ]
  },
  {
   "cell_type": "code",
   "execution_count": 5,
   "id": "9b79a3c0",
   "metadata": {},
   "outputs": [
    {
     "name": "stdout",
     "output_type": "stream",
     "text": [
      "{'tail', 'wiener', 'give_chase', 'detent', 'hound', 'track', 'firedog', 'pawl', 'frump', 'go_after', 'trail', 'wienerwurst', 'chase', 'andiron', 'bounder', 'blackguard', 'frankfurter', 'weenie', 'domestic_dog', 'tag', 'click', 'dog', 'hotdog', 'chase_after', 'frank', 'heel', 'Canis_familiaris', 'dog-iron', 'cad', 'hot_dog'}\n"
     ]
    }
   ],
   "source": [
    "from nltk.corpus import wordnet as wn\n",
    "\n",
    "synonyms = set()\n",
    "antonyms = set()\n",
    "\n",
    "for syn in wn.synsets(\"dog\"):\n",
    "    for l in syn.lemmas():\n",
    "        synonyms.add(l.name())\n",
    "print(synonyms)"
   ]
  },
  {
   "cell_type": "code",
   "execution_count": 6,
   "id": "b579c7cd",
   "metadata": {},
   "outputs": [],
   "source": [
    "left_words = []\n",
    "src_words = []\n",
    "for w in sst_words:\n",
    "    if w in word2idx:\n",
    "        src_words.append(word2idx[w])\n",
    "    elif w.lower() in word2idx:\n",
    "        src_words.append(word2idx[w.lower()])\n",
    "    else:\n",
    "        left_words.append(w)\n",
    "sim_words, sim_values = pick_most_similar_words_batch(src_words, sim_mat, idx2word)"
   ]
  },
  {
   "cell_type": "code",
   "execution_count": 7,
   "id": "54d087a0",
   "metadata": {},
   "outputs": [
    {
     "name": "stdout",
     "output_type": "stream",
     "text": [
      "300\n",
      "300\n"
     ]
    }
   ],
   "source": [
    "syns = dict()\n",
    "\n",
    "for idx, w in enumerate(src_words):\n",
    "    tmp = len(sim_words[idx])\n",
    "#     print(tmp)\n",
    "    if tmp >= 5:\n",
    "        syns[idx2word[w]] = sim_words[idx]\n",
    "    else:\n",
    "        synonyms = set()\n",
    "        \n",
    "        for syn in wn.synsets(idx2word[w]):\n",
    "            for l in syn.lemmas():\n",
    "                synonyms.add(l.name())\n",
    "        if idx2word[w] in synonyms:\n",
    "            synonyms.remove(idx2word[w])\n",
    "        synonyms = [item.replace(\"_\", \" \") for item in synonyms]\n",
    "        syns[idx2word[w]] = sim_words[idx] + synonyms[:10-tmp]\n",
    "print(len(syns))\n",
    "print(len(syns))"
   ]
  }
 ],
 "metadata": {
  "kernelspec": {
   "display_name": "Python 3 (ipykernel)",
   "language": "python",
   "name": "python3"
  },
  "language_info": {
   "codemirror_mode": {
    "name": "ipython",
    "version": 3
   },
   "file_extension": ".py",
   "mimetype": "text/x-python",
   "name": "python",
   "nbconvert_exporter": "python",
   "pygments_lexer": "ipython3",
   "version": "3.8.8"
  }
 },
 "nbformat": 4,
 "nbformat_minor": 5
}
